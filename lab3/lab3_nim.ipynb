{
 "cells": [
  {
   "cell_type": "markdown",
   "metadata": {
    "pycharm": {
     "name": "#%% md\n"
    }
   },
   "source": [
    "Copyright **`(c)`** 2022 Giovanni Squillero `<squillero@polito.it>`  \n",
    "[`https://github.com/squillero/computational-intelligence`](https://github.com/squillero/computational-intelligence)  \n",
    "Free for personal or classroom use; see [`LICENSE.md`](https://github.com/squillero/computational-intelligence/blob/master/LICENSE.md) for details.  \n"
   ]
  },
  {
   "cell_type": "markdown",
   "metadata": {
    "pycharm": {
     "name": "#%%\n"
    }
   },
   "source": [
    "# Lab 3: Policy Search\n",
    "\n",
    "## Task\n",
    "\n",
    "Write agents able to play [*Nim*](https://en.wikipedia.org/wiki/Nim), with an arbitrary number of rows and an upper bound $k$ on the number of objects that can be removed in a turn (a.k.a., *subtraction game*).\n",
    "\n",
    "The player **taking the last object wins**.\n",
    "\n",
    "* Task3.1: An agent using fixed rules based on *nim-sum* (i.e., an *expert system*)\n",
    "* Task3.2: An agent using evolved rules\n",
    "* Task3.3: An agent using minmax\n",
    "* Task3.4: An agent using reinforcement learning\n",
    "\n",
    "## Instructions\n",
    "\n",
    "* Create the directory `lab3` inside the course repo \n",
    "* Put a `README.md` and your solution (all the files, code and auxiliary data if needed)\n",
    "\n",
    "## Notes\n",
    "\n",
    "* Working in group is not only allowed, but recommended (see: [Ubuntu](https://en.wikipedia.org/wiki/Ubuntu_philosophy) and [Cooperative Learning](https://files.eric.ed.gov/fulltext/EJ1096789.pdf)). Collaborations must be explicitly declared in the `README.md`.\n",
    "* [Yanking](https://www.emacswiki.org/emacs/KillingAndYanking) from the internet is allowed, but sources must be explicitly declared in the `README.md`.\n",
    "\n",
    "## Deadlines ([AoE](https://en.wikipedia.org/wiki/Anywhere_on_Earth))\n",
    "\n",
    "* Sunday, December 4th for Task3.1 and Task3.2\n",
    "* Sunday, December 11th for Task3.3 and Task3.4\n",
    "* Sunday, December 18th for all reviews"
   ]
  },
  {
   "cell_type": "code",
   "execution_count": 1,
   "metadata": {},
   "outputs": [],
   "source": [
    "import logging\n",
    "from collections import namedtuple\n",
    "import random\n",
    "from typing import Callable\n",
    "from copy import deepcopy\n",
    "from itertools import accumulate\n",
    "from operator import xor"
   ]
  },
  {
   "cell_type": "markdown",
   "metadata": {},
   "source": [
    "## The *Nim* and *Nimply* classes"
   ]
  },
  {
   "cell_type": "code",
   "execution_count": 2,
   "metadata": {},
   "outputs": [],
   "source": [
    "Nimply = namedtuple(\"Nimply\", \"row, num_objects\")"
   ]
  },
  {
   "cell_type": "code",
   "execution_count": 3,
   "metadata": {},
   "outputs": [],
   "source": [
    "class Nim:\n",
    "    def __init__(self, num_rows: int, k: int = None) -> None:\n",
    "        self._rows = [i * 2 + 1 for i in range(num_rows)]\n",
    "        self._k = k\n",
    "\n",
    "    def __bool__(self):\n",
    "        return sum(self._rows) > 0\n",
    "\n",
    "    def __str__(self):\n",
    "        return \"<\" + \" \".join(str(_) for _ in self._rows) + \">\"\n",
    "\n",
    "    @property\n",
    "    def rows(self) -> tuple:\n",
    "        return tuple(self._rows)\n",
    "\n",
    "    @property\n",
    "    def k(self) -> int:\n",
    "        return self._k\n",
    "\n",
    "    def nimming(self, ply: Nimply) -> None:\n",
    "        row, num_objects = ply\n",
    "        assert self._rows[row] >= num_objects\n",
    "        assert self._k is None or num_objects <= self._k\n",
    "        self._rows[row] -= num_objects"
   ]
  },
  {
   "cell_type": "markdown",
   "metadata": {},
   "source": [
    "## Sample (and silly) startegies "
   ]
  },
  {
   "cell_type": "code",
   "execution_count": 4,
   "metadata": {},
   "outputs": [],
   "source": [
    "def pure_random(state: Nim) -> Nimply:\n",
    "    row = random.choice([r for r, c in enumerate(state.rows) if c > 0])\n",
    "    num_objects = random.randint(1, state.rows[row])\n",
    "    return Nimply(row, num_objects)"
   ]
  },
  {
   "cell_type": "code",
   "execution_count": 5,
   "metadata": {},
   "outputs": [],
   "source": [
    "def gabriele(state: Nim) -> Nimply:\n",
    "    \"\"\"Pick always the maximum possible number of the lowest row\"\"\"\n",
    "    possible_moves = [(r, o) for r, c in enumerate(state.rows) for o in range(1, c + 1)]\n",
    "    return Nimply(*max(possible_moves, key=lambda m: (-m[0], m[1])))"
   ]
  },
  {
   "cell_type": "code",
   "execution_count": 6,
   "metadata": {},
   "outputs": [],
   "source": [
    "def nim_sum(state: Nim) -> int:\n",
    "    *_, result = accumulate(state.rows, xor)\n",
    "    return result\n",
    "\n",
    "\n",
    "def cook_status(state: Nim) -> dict:\n",
    "    cooked = dict()\n",
    "    cooked[\"possible_moves\"] = [\n",
    "        (r, o) for r, c in enumerate(state.rows) for o in range(1, c + 1) if state.k is None or o <= state.k\n",
    "    ]\n",
    "    cooked[\"active_rows_number\"] = sum(o > 0 for o in state.rows)\n",
    "    cooked[\"shortest_row\"] = min((x for x in enumerate(state.rows) if x[1] > 0), key=lambda y: y[1])[0]\n",
    "    cooked[\"longest_row\"] = max((x for x in enumerate(state.rows)), key=lambda y: y[1])[0]\n",
    "    cooked[\"nim_sum\"] = nim_sum(state)\n",
    "\n",
    "    brute_force = list()\n",
    "    for m in cooked[\"possible_moves\"]:\n",
    "        tmp = deepcopy(state)\n",
    "        tmp.nimming(m)\n",
    "        brute_force.append((m, nim_sum(tmp)))\n",
    "    cooked[\"brute_force\"] = brute_force\n",
    "\n",
    "    return cooked"
   ]
  },
  {
   "cell_type": "code",
   "execution_count": 7,
   "metadata": {},
   "outputs": [],
   "source": [
    "def optimal_startegy(state: Nim) -> Nimply:\n",
    "    data = cook_status(state)\n",
    "    return next((bf for bf in data[\"brute_force\"] if bf[1] == 0), random.choice(data[\"brute_force\"]))[0]"
   ]
  },
  {
   "cell_type": "code",
   "execution_count": 8,
   "metadata": {},
   "outputs": [],
   "source": [
    "def make_strategy(genome: dict) -> Callable:\n",
    "    def evolvable(state: Nim) -> Nimply:\n",
    "        data = cook_status(state)\n",
    "\n",
    "        if random.random() < genome[\"p\"]:\n",
    "            ply = Nimply(data[\"shortest_row\"], random.randint(1, state.rows[data[\"shortest_row\"]]))\n",
    "        else:\n",
    "            ply = Nimply(data[\"longest_row\"], random.randint(1, state.rows[data[\"longest_row\"]]))\n",
    "\n",
    "        return ply\n",
    "\n",
    "    return evolvable"
   ]
  },
  {
   "cell_type": "code",
   "execution_count": 9,
   "metadata": {},
   "outputs": [],
   "source": [
    "NUM_MATCHES = 10\n",
    "NIM_SIZE = 10\n",
    "\n",
    "\n",
    "def evaluate(strategy: Callable) -> float:\n",
    "    opponent = (strategy, optimal_startegy)\n",
    "    won = 0\n",
    "\n",
    "    for m in range(NUM_MATCHES):\n",
    "        nim = Nim(NIM_SIZE)\n",
    "        player = 0\n",
    "        while nim:\n",
    "            ply = opponent[player](nim)\n",
    "            nim.nimming(ply)\n",
    "            player = 1 - player\n",
    "        if player == 1:\n",
    "            won += 1\n",
    "    return won / NUM_MATCHES"
   ]
  },
  {
   "cell_type": "code",
   "execution_count": 14,
   "metadata": {},
   "outputs": [
    {
     "data": {
      "text/plain": [
       "0.0"
      ]
     },
     "execution_count": 14,
     "metadata": {},
     "output_type": "execute_result"
    }
   ],
   "source": [
    "evaluate(make_strategy({\"p\": 0.1}))"
   ]
  },
  {
   "cell_type": "markdown",
   "metadata": {},
   "source": [
    "## Oversimplified match"
   ]
  },
  {
   "cell_type": "code",
   "execution_count": 22,
   "metadata": {},
   "outputs": [
    {
     "name": "stderr",
     "output_type": "stream",
     "text": [
      "DEBUG:root:status: Initial board  -> <1 3 5 7 9 11 13 15 17 19 21 23 25 27 29 31 33 35 37 39 41 43 45 47 49 51 53 55 57 59 61 63 65 67 69 71 73 75 77 79 81 83 85 87 89 91 93 95 97 99>\n",
      "DEBUG:root:status: After player 0 -> <1 3 5 7 9 11 13 15 17 19 21 23 25 27 29 31 33 35 37 39 41 43 45 47 49 51 53 55 57 59 61 63 65 67 69 71 73 75 77 79 81 83 85 87 89 91 93 95 97 45>\n",
      "DEBUG:root:status: After player 1 -> <1 3 5 7 9 11 13 15 17 19 21 23 25 27 29 31 33 35 37 39 41 43 45 47 49 51 53 55 57 59 61 63 13 67 69 71 73 75 77 79 81 83 85 87 89 91 93 95 97 45>\n",
      "DEBUG:root:status: After player 0 -> <1 3 5 7 9 11 13 15 17 19 21 23 25 27 29 31 33 35 37 39 41 43 45 47 49 51 53 55 57 59 61 63 13 67 69 71 73 75 77 79 81 83 85 87 89 91 93 95 77 45>\n",
      "DEBUG:root:status: After player 1 -> <1 3 5 7 9 11 13 15 17 19 21 23 25 27 29 31 13 35 37 39 41 43 45 47 49 51 53 55 57 59 61 63 13 67 69 71 73 75 77 79 81 83 85 87 89 91 93 95 77 45>\n",
      "DEBUG:root:status: After player 0 -> <1 3 5 7 9 11 13 15 17 19 21 23 25 27 29 31 13 35 37 39 41 43 45 47 49 51 53 55 57 59 61 63 13 67 69 71 73 75 77 79 81 83 85 87 89 91 93 33 77 45>\n",
      "DEBUG:root:status: After player 1 -> <1 3 5 7 9 11 13 15 17 19 21 23 25 27 29 31 13 35 37 39 41 43 45 47 49 51 53 55 57 59 61 63 13 61 69 71 73 75 77 79 81 83 85 87 89 91 93 33 77 45>\n",
      "DEBUG:root:status: After player 0 -> <1 3 5 7 9 11 13 15 17 19 21 23 25 27 29 31 13 35 37 39 41 43 45 47 49 51 53 55 57 59 61 63 13 61 69 71 73 75 77 79 81 83 85 87 89 91 6 33 77 45>\n",
      "DEBUG:root:status: After player 1 -> <1 3 5 7 9 11 13 15 17 19 21 23 25 27 29 31 13 35 37 39 41 43 45 47 49 51 53 55 57 59 61 63 13 61 30 71 73 75 77 79 81 83 85 87 89 91 6 33 77 45>\n",
      "DEBUG:root:status: After player 0 -> <1 3 5 7 9 11 13 15 17 19 21 23 25 27 29 31 13 35 37 39 41 43 45 47 49 51 53 55 57 59 61 63 13 61 30 71 73 75 77 79 81 83 85 87 89 10 6 33 77 45>\n",
      "DEBUG:root:status: After player 1 -> <1 3 5 7 9 11 13 15 17 19 21 23 25 27 29 31 13 35 37 39 41 43 45 47 49 51 53 55 57 59 61 63 13 61 30 22 73 75 77 79 81 83 85 87 89 10 6 33 77 45>\n",
      "DEBUG:root:status: After player 0 -> <1 3 5 7 9 11 13 15 17 19 21 23 25 27 29 31 13 35 37 39 41 43 45 47 49 51 53 55 57 59 61 63 13 61 30 22 73 75 77 79 81 83 85 87 40 10 6 33 77 45>\n",
      "DEBUG:root:status: After player 1 -> <1 3 5 7 9 11 13 15 17 19 21 23 25 27 29 31 13 35 37 39 41 43 45 47 49 51 53 55 57 59 61 63 13 61 30 22 56 75 77 79 81 83 85 87 40 10 6 33 77 45>\n",
      "DEBUG:root:status: After player 0 -> <1 3 5 7 9 11 13 15 17 19 21 23 25 27 29 31 13 35 37 39 41 43 45 47 49 51 53 55 57 59 61 63 13 61 30 22 56 75 77 79 81 83 85 44 40 10 6 33 77 45>\n",
      "DEBUG:root:status: After player 1 -> <1 3 5 7 9 11 13 15 17 19 21 23 25 27 29 31 13 35 37 39 41 43 45 47 49 51 53 55 57 59 61 63 13 61 30 22 56 48 77 79 81 83 85 44 40 10 6 33 77 45>\n",
      "DEBUG:root:status: After player 0 -> <1 3 5 7 9 11 13 15 17 19 21 23 25 27 29 31 13 35 37 39 41 43 45 47 49 51 53 55 57 59 61 63 13 61 30 22 56 48 77 79 81 83 38 44 40 10 6 33 77 45>\n",
      "DEBUG:root:status: After player 1 -> <1 3 5 7 9 11 13 15 17 19 21 23 25 27 29 31 13 35 37 39 41 43 45 47 49 51 53 55 57 59 61 63 13 61 30 22 56 48 62 79 81 83 38 44 40 10 6 33 77 45>\n",
      "DEBUG:root:status: After player 0 -> <1 3 5 7 9 11 13 15 17 19 21 23 25 27 29 31 13 35 37 39 41 43 45 47 49 51 53 55 57 59 61 63 13 61 30 22 56 48 62 79 81 79 38 44 40 10 6 33 77 45>\n",
      "DEBUG:root:status: After player 1 -> <1 3 5 7 9 11 13 15 13 19 21 23 25 27 29 31 13 35 37 39 41 43 45 47 49 51 53 55 57 59 61 63 13 61 30 22 56 48 62 79 81 79 38 44 40 10 6 33 77 45>\n",
      "DEBUG:root:status: After player 0 -> <1 3 5 7 9 11 13 15 13 19 21 23 25 27 29 31 13 35 37 39 41 43 45 47 49 51 53 55 57 59 61 63 13 61 30 22 56 48 62 79 15 79 38 44 40 10 6 33 77 45>\n",
      "DEBUG:root:status: After player 1 -> <1 3 5 7 9 11 13 15 13 19 21 23 25 27 29 31 13 35 37 39 41 43 45 47 49 51 53 55 57 59 61 63 13 61 30 22 56 48 62 17 15 79 38 44 40 10 6 33 77 45>\n",
      "DEBUG:root:status: After player 0 -> <1 3 5 7 9 11 13 15 13 19 21 23 25 27 29 31 13 35 37 39 41 43 45 47 49 51 53 55 57 59 61 63 13 61 30 22 56 48 62 17 15 32 38 44 40 10 6 33 77 45>\n",
      "DEBUG:root:status: After player 1 -> <1 3 5 7 9 11 13 15 13 19 21 23 25 27 29 31 13 35 37 39 41 43 45 47 49 51 53 55 57 59 61 63 13 61 30 22 56 48 62 17 15 32 38 44 40 10 6 33 34 45>\n",
      "DEBUG:root:status: After player 0 -> <1 3 5 7 9 11 13 15 13 19 21 23 25 27 29 31 13 35 37 39 41 43 45 47 49 51 53 55 57 59 61 3 13 61 30 22 56 48 62 17 15 32 38 44 40 10 6 33 34 45>\n",
      "DEBUG:root:status: After player 1 -> <1 3 5 7 9 11 13 15 13 19 21 23 25 27 29 31 13 31 37 39 41 43 45 47 49 51 53 55 57 59 61 3 13 61 30 22 56 48 62 17 15 32 38 44 40 10 6 33 34 45>\n",
      "DEBUG:root:status: After player 0 -> <1 3 5 7 9 11 13 15 13 19 21 23 25 27 29 31 13 31 37 39 41 43 45 47 49 51 53 55 57 59 61 3 13 61 30 22 56 48 15 17 15 32 38 44 40 10 6 33 34 45>\n",
      "DEBUG:root:status: After player 1 -> <1 3 5 7 9 11 13 15 13 19 21 23 25 27 29 31 13 31 20 39 41 43 45 47 49 51 53 55 57 59 61 3 13 61 30 22 56 48 15 17 15 32 38 44 40 10 6 33 34 45>\n",
      "DEBUG:root:status: After player 0 -> <1 3 5 7 9 11 13 15 13 19 21 23 25 27 29 31 13 31 20 39 41 43 45 47 49 51 53 55 57 59 23 3 13 61 30 22 56 48 15 17 15 32 38 44 40 10 6 33 34 45>\n",
      "DEBUG:root:status: After player 1 -> <1 3 5 7 9 11 13 15 13 19 21 23 25 27 29 31 13 31 20 13 41 43 45 47 49 51 53 55 57 59 23 3 13 61 30 22 56 48 15 17 15 32 38 44 40 10 6 33 34 45>\n",
      "DEBUG:root:status: After player 0 -> <1 3 5 7 9 11 13 15 13 19 21 23 25 27 29 31 13 31 20 13 41 43 45 47 49 51 53 55 57 59 23 3 13 1 30 22 56 48 15 17 15 32 38 44 40 10 6 33 34 45>\n",
      "DEBUG:root:status: After player 1 -> <1 3 5 7 9 11 13 15 13 19 21 23 25 27 29 31 13 31 20 13 21 43 45 47 49 51 53 55 57 59 23 3 13 1 30 22 56 48 15 17 15 32 38 44 40 10 6 33 34 45>\n",
      "DEBUG:root:status: After player 0 -> <1 3 5 7 9 11 13 15 13 19 21 23 25 27 29 31 13 31 20 13 21 43 45 47 49 51 53 55 57 32 23 3 13 1 30 22 56 48 15 17 15 32 38 44 40 10 6 33 34 45>\n",
      "DEBUG:root:status: After player 1 -> <1 3 5 7 9 11 13 15 13 8 21 23 25 27 29 31 13 31 20 13 21 43 45 47 49 51 53 55 57 32 23 3 13 1 30 22 56 48 15 17 15 32 38 44 40 10 6 33 34 45>\n",
      "DEBUG:root:status: After player 0 -> <1 3 5 7 9 11 13 15 13 8 21 23 25 27 29 31 13 31 20 13 21 43 45 47 49 51 53 55 9 32 23 3 13 1 30 22 56 48 15 17 15 32 38 44 40 10 6 33 34 45>\n",
      "DEBUG:root:status: After player 1 -> <1 3 5 7 9 11 13 15 13 8 21 23 25 27 29 31 13 31 20 13 21 27 45 47 49 51 53 55 9 32 23 3 13 1 30 22 56 48 15 17 15 32 38 44 40 10 6 33 34 45>\n",
      "DEBUG:root:status: After player 0 -> <1 3 5 7 9 11 13 15 13 8 21 23 25 27 29 31 13 31 20 13 21 27 45 47 49 51 53 55 9 32 23 3 13 1 30 22 28 48 15 17 15 32 38 44 40 10 6 33 34 45>\n",
      "DEBUG:root:status: After player 1 -> <1 3 5 7 9 11 13 15 13 8 21 23 25 27 29 31 13 31 20 13 21 27 9 47 49 51 53 55 9 32 23 3 13 1 30 22 28 48 15 17 15 32 38 44 40 10 6 33 34 45>\n",
      "DEBUG:root:status: After player 0 -> <1 3 5 7 9 11 13 15 13 8 21 23 25 27 29 31 13 31 20 13 21 27 9 47 49 51 53 24 9 32 23 3 13 1 30 22 28 48 15 17 15 32 38 44 40 10 6 33 34 45>\n",
      "DEBUG:root:status: After player 1 -> <1 3 5 7 9 11 13 15 13 8 21 23 25 27 29 31 13 31 20 13 21 27 9 0 49 51 53 24 9 32 23 3 13 1 30 22 28 48 15 17 15 32 38 44 40 10 6 33 34 45>\n",
      "DEBUG:root:status: After player 0 -> <1 3 5 7 9 11 13 15 13 8 21 23 25 27 29 31 13 31 20 13 21 27 9 0 49 51 6 24 9 32 23 3 13 1 30 22 28 48 15 17 15 32 38 44 40 10 6 33 34 45>\n",
      "DEBUG:root:status: After player 1 -> <1 3 5 7 9 11 13 15 13 8 21 23 25 27 29 31 13 31 20 13 21 27 9 0 2 51 6 24 9 32 23 3 13 1 30 22 28 48 15 17 15 32 38 44 40 10 6 33 34 45>\n",
      "DEBUG:root:status: After player 0 -> <1 3 5 7 9 11 13 15 13 8 21 23 25 27 29 31 13 31 20 13 21 27 9 0 2 16 6 24 9 32 23 3 13 1 30 22 28 48 15 17 15 32 38 44 40 10 6 33 34 45>\n",
      "DEBUG:root:status: After player 1 -> <1 3 5 7 9 11 13 15 13 8 21 23 25 27 29 31 13 31 20 13 21 27 9 0 2 16 6 24 9 3 23 3 13 1 30 22 28 48 15 17 15 32 38 44 40 10 6 33 34 45>\n",
      "DEBUG:root:status: After player 0 -> <1 3 5 7 9 11 13 15 13 8 21 23 25 27 29 31 13 31 20 13 21 27 9 0 2 16 6 24 9 3 23 3 13 1 30 22 28 8 15 17 15 32 38 44 40 10 6 33 34 45>\n",
      "DEBUG:root:status: After player 1 -> <1 3 5 7 9 11 13 15 13 8 21 23 25 27 29 31 13 31 20 13 21 27 9 0 2 16 6 24 9 3 23 3 13 1 30 22 28 8 15 17 15 24 38 44 40 10 6 33 34 45>\n",
      "DEBUG:root:status: After player 0 -> <1 3 5 7 9 11 13 15 13 8 21 23 25 27 29 31 13 31 20 13 21 27 9 0 2 16 6 24 9 3 23 3 13 1 30 22 28 8 15 17 15 24 38 44 40 10 6 33 34 15>\n",
      "DEBUG:root:status: After player 1 -> <1 3 5 7 9 11 13 15 13 8 21 23 25 27 29 31 13 31 20 13 21 27 9 0 2 16 6 24 9 3 23 3 13 1 30 22 28 8 15 17 15 24 4 44 40 10 6 33 34 15>\n",
      "DEBUG:root:status: After player 0 -> <1 3 5 7 9 11 13 15 13 8 21 23 25 27 29 31 13 31 20 13 21 27 9 0 2 16 6 24 9 3 23 3 13 1 30 22 28 8 15 17 15 24 4 41 40 10 6 33 34 15>\n",
      "DEBUG:root:status: After player 1 -> <1 3 0 7 9 11 13 15 13 8 21 23 25 27 29 31 13 31 20 13 21 27 9 0 2 16 6 24 9 3 23 3 13 1 30 22 28 8 15 17 15 24 4 41 40 10 6 33 34 15>\n",
      "DEBUG:root:status: After player 0 -> <1 3 0 7 9 11 13 15 13 8 21 23 25 27 29 31 13 31 20 13 21 27 9 0 2 16 6 24 9 3 23 3 13 1 30 22 28 8 15 17 15 24 4 2 40 10 6 33 34 15>\n",
      "DEBUG:root:status: After player 1 -> <1 3 0 7 9 11 13 15 13 8 21 23 25 27 29 31 13 31 20 13 21 27 9 0 2 16 6 24 9 3 23 3 13 1 30 22 28 8 15 17 15 24 4 2 3 10 6 33 34 15>\n",
      "DEBUG:root:status: After player 0 -> <1 3 0 7 9 11 13 15 13 8 21 23 25 27 29 31 13 31 20 13 21 27 9 0 2 16 6 24 9 3 23 3 13 1 30 22 28 8 15 17 15 24 4 2 3 10 6 33 32 15>\n",
      "DEBUG:root:status: After player 1 -> <1 1 0 7 9 11 13 15 13 8 21 23 25 27 29 31 13 31 20 13 21 27 9 0 2 16 6 24 9 3 23 3 13 1 30 22 28 8 15 17 15 24 4 2 3 10 6 33 32 15>\n",
      "DEBUG:root:status: After player 0 -> <1 1 0 7 9 11 13 15 13 8 21 23 25 27 29 31 13 31 20 13 21 27 9 0 2 16 6 24 9 3 23 3 13 1 30 22 28 8 15 17 15 24 4 2 3 10 6 24 32 15>\n",
      "DEBUG:root:status: After player 1 -> <1 1 0 7 9 11 13 15 13 8 21 23 25 27 29 31 13 31 20 13 21 27 9 0 2 16 6 24 9 3 23 3 13 1 30 22 28 8 15 17 15 24 4 2 3 10 6 24 25 15>\n",
      "DEBUG:root:status: After player 0 -> <1 1 0 7 9 11 13 15 13 8 21 23 25 27 29 11 13 31 20 13 21 27 9 0 2 16 6 24 9 3 23 3 13 1 30 22 28 8 15 17 15 24 4 2 3 10 6 24 25 15>\n",
      "DEBUG:root:status: After player 1 -> <1 1 0 7 9 11 13 15 13 8 1 23 25 27 29 11 13 31 20 13 21 27 9 0 2 16 6 24 9 3 23 3 13 1 30 22 28 8 15 17 15 24 4 2 3 10 6 24 25 15>\n",
      "DEBUG:root:status: After player 0 -> <1 1 0 7 9 11 13 15 13 8 1 23 25 27 29 11 13 3 20 13 21 27 9 0 2 16 6 24 9 3 23 3 13 1 30 22 28 8 15 17 15 24 4 2 3 10 6 24 25 15>\n",
      "DEBUG:root:status: After player 1 -> <1 1 0 7 9 11 13 15 13 8 1 11 25 27 29 11 13 3 20 13 21 27 9 0 2 16 6 24 9 3 23 3 13 1 30 22 28 8 15 17 15 24 4 2 3 10 6 24 25 15>\n",
      "DEBUG:root:status: After player 0 -> <1 1 0 7 9 11 13 15 13 8 1 11 25 27 29 11 13 3 20 13 21 27 9 0 2 16 6 24 9 3 23 3 13 1 12 22 28 8 15 17 15 24 4 2 3 10 6 24 25 15>\n",
      "DEBUG:root:status: After player 1 -> <1 1 0 7 9 11 13 15 13 8 1 11 11 27 29 11 13 3 20 13 21 27 9 0 2 16 6 24 9 3 23 3 13 1 12 22 28 8 15 17 15 24 4 2 3 10 6 24 25 15>\n",
      "DEBUG:root:status: After player 0 -> <1 1 0 7 9 11 13 15 13 8 1 11 11 27 3 11 13 3 20 13 21 27 9 0 2 16 6 24 9 3 23 3 13 1 12 22 28 8 15 17 15 24 4 2 3 10 6 24 25 15>\n",
      "DEBUG:root:status: After player 1 -> <1 1 0 7 9 11 13 15 13 8 1 11 11 5 3 11 13 3 20 13 21 27 9 0 2 16 6 24 9 3 23 3 13 1 12 22 28 8 15 17 15 24 4 2 3 10 6 24 25 15>\n",
      "DEBUG:root:status: After player 0 -> <1 1 0 7 9 11 13 15 13 8 1 11 11 5 3 11 13 3 20 13 21 27 9 0 2 16 6 24 9 3 23 3 13 1 12 22 20 8 15 17 15 24 4 2 3 10 6 24 25 15>\n",
      "DEBUG:root:status: After player 1 -> <1 1 0 7 1 11 13 15 13 8 1 11 11 5 3 11 13 3 20 13 21 27 9 0 2 16 6 24 9 3 23 3 13 1 12 22 20 8 15 17 15 24 4 2 3 10 6 24 25 15>\n",
      "DEBUG:root:status: After player 0 -> <1 1 0 7 1 11 13 15 13 8 1 11 11 5 3 11 13 3 20 13 21 21 9 0 2 16 6 24 9 3 23 3 13 1 12 22 20 8 15 17 15 24 4 2 3 10 6 24 25 15>\n",
      "DEBUG:root:status: After player 1 -> <1 1 0 7 1 5 13 15 13 8 1 11 11 5 3 11 13 3 20 13 21 21 9 0 2 16 6 24 9 3 23 3 13 1 12 22 20 8 15 17 15 24 4 2 3 10 6 24 25 15>\n",
      "DEBUG:root:status: After player 0 -> <1 1 0 7 1 5 13 15 13 8 1 11 11 5 3 11 13 3 20 13 21 21 9 0 2 16 6 24 9 3 23 3 13 1 12 22 20 8 15 17 15 24 4 2 3 10 6 24 12 15>\n",
      "DEBUG:root:status: After player 1 -> <1 1 0 7 1 5 13 15 13 8 1 11 11 5 3 11 13 3 1 13 21 21 9 0 2 16 6 24 9 3 23 3 13 1 12 22 20 8 15 17 15 24 4 2 3 10 6 24 12 15>\n",
      "DEBUG:root:status: After player 0 -> <1 1 0 7 1 5 13 15 13 8 1 11 11 5 3 11 13 3 1 13 21 21 9 0 2 16 6 12 9 3 23 3 13 1 12 22 20 8 15 17 15 24 4 2 3 10 6 24 12 15>\n",
      "DEBUG:root:status: After player 1 -> <1 1 0 7 1 5 13 15 13 8 1 11 11 5 3 11 13 3 1 13 1 21 9 0 2 16 6 12 9 3 23 3 13 1 12 22 20 8 15 17 15 24 4 2 3 10 6 24 12 15>\n",
      "DEBUG:root:status: After player 0 -> <1 1 0 7 1 5 13 15 13 8 1 11 11 5 3 11 13 3 1 13 1 21 9 0 2 16 6 12 9 3 23 3 13 1 12 22 20 8 15 17 15 12 4 2 3 10 6 24 12 15>\n",
      "DEBUG:root:status: After player 1 -> <1 1 0 7 1 5 13 15 13 8 1 11 11 5 3 11 13 3 1 13 1 1 9 0 2 16 6 12 9 3 23 3 13 1 12 22 20 8 15 17 15 12 4 2 3 10 6 24 12 15>\n",
      "DEBUG:root:status: After player 0 -> <1 1 0 7 1 5 13 15 13 8 1 11 11 5 3 11 13 3 1 13 1 1 9 0 2 16 6 12 9 3 23 3 13 1 12 22 20 8 15 17 15 12 4 2 3 10 6 18 12 15>\n",
      "DEBUG:root:status: After player 1 -> <1 1 0 7 1 5 7 15 13 8 1 11 11 5 3 11 13 3 1 13 1 1 9 0 2 16 6 12 9 3 23 3 13 1 12 22 20 8 15 17 15 12 4 2 3 10 6 18 12 15>\n",
      "DEBUG:root:status: After player 0 -> <0 1 0 7 1 5 7 15 13 8 1 11 11 5 3 11 13 3 1 13 1 1 9 0 2 16 6 12 9 3 23 3 13 1 12 22 20 8 15 17 15 12 4 2 3 10 6 18 12 15>\n",
      "DEBUG:root:status: After player 1 -> <0 0 0 7 1 5 7 15 13 8 1 11 11 5 3 11 13 3 1 13 1 1 9 0 2 16 6 12 9 3 23 3 13 1 12 22 20 8 15 17 15 12 4 2 3 10 6 18 12 15>\n",
      "DEBUG:root:status: After player 0 -> <0 0 0 7 1 5 7 15 13 8 1 11 11 5 3 11 13 3 1 13 1 1 9 0 2 16 6 12 9 3 21 3 13 1 12 22 20 8 15 17 15 12 4 2 3 10 6 18 12 15>\n",
      "DEBUG:root:status: After player 1 -> <0 0 0 5 1 5 7 15 13 8 1 11 11 5 3 11 13 3 1 13 1 1 9 0 2 16 6 12 9 3 21 3 13 1 12 22 20 8 15 17 15 12 4 2 3 10 6 18 12 15>\n",
      "DEBUG:root:status: After player 0 -> <0 0 0 5 1 5 7 15 13 8 1 11 11 5 3 11 13 3 1 13 1 1 9 0 2 16 6 12 9 3 21 3 13 1 12 3 20 8 15 17 15 12 4 2 3 10 6 18 12 15>\n",
      "DEBUG:root:status: After player 1 -> <0 0 0 5 1 5 7 15 13 8 1 11 11 5 3 11 13 3 1 13 1 1 9 0 2 5 6 12 9 3 21 3 13 1 12 3 20 8 15 17 15 12 4 2 3 10 6 18 12 15>\n",
      "DEBUG:root:status: After player 0 -> <0 0 0 5 1 5 7 15 13 8 1 11 11 5 3 11 13 3 1 13 1 1 9 0 2 5 6 12 9 3 15 3 13 1 12 3 20 8 15 17 15 12 4 2 3 10 6 18 12 15>\n",
      "DEBUG:root:status: After player 1 -> <0 0 0 5 1 5 7 15 13 8 1 11 11 5 3 11 13 3 1 13 1 1 9 0 2 5 6 12 9 3 15 3 13 1 12 3 14 8 15 17 15 12 4 2 3 10 6 18 12 15>\n",
      "DEBUG:root:status: After player 0 -> <0 0 0 5 1 5 7 15 13 8 1 11 11 5 3 11 13 3 1 13 1 1 9 0 2 5 6 12 9 3 15 3 13 1 12 3 14 8 15 17 15 12 4 2 3 10 6 17 12 15>\n",
      "DEBUG:root:status: After player 1 -> <0 0 0 5 1 5 4 15 13 8 1 11 11 5 3 11 13 3 1 13 1 1 9 0 2 5 6 12 9 3 15 3 13 1 12 3 14 8 15 17 15 12 4 2 3 10 6 17 12 15>\n",
      "DEBUG:root:status: After player 0 -> <0 0 0 5 1 5 4 15 13 8 1 11 11 5 3 11 13 3 1 13 1 1 9 0 2 5 6 12 9 3 15 3 13 1 12 3 14 8 15 13 15 12 4 2 3 10 6 17 12 15>\n",
      "DEBUG:root:status: After player 1 -> <0 0 0 5 1 5 4 15 13 8 1 11 11 5 3 11 13 3 1 13 1 1 9 0 2 5 6 12 9 3 15 3 13 1 12 3 14 8 15 13 15 12 4 2 3 10 6 13 12 15>\n",
      "DEBUG:root:status: After player 0 -> <0 0 0 5 1 5 4 2 13 8 1 11 11 5 3 11 13 3 1 13 1 1 9 0 2 5 6 12 9 3 15 3 13 1 12 3 14 8 15 13 15 12 4 2 3 10 6 13 12 15>\n",
      "DEBUG:root:status: After player 1 -> <0 0 0 5 1 5 4 2 0 8 1 11 11 5 3 11 13 3 1 13 1 1 9 0 2 5 6 12 9 3 15 3 13 1 12 3 14 8 15 13 15 12 4 2 3 10 6 13 12 15>\n",
      "DEBUG:root:status: After player 0 -> <0 0 0 5 1 5 4 2 0 8 1 11 11 5 3 11 13 3 1 13 1 1 9 0 2 5 6 12 9 3 9 3 13 1 12 3 14 8 15 13 15 12 4 2 3 10 6 13 12 15>\n",
      "DEBUG:root:status: After player 1 -> <0 0 0 3 1 5 4 2 0 8 1 11 11 5 3 11 13 3 1 13 1 1 9 0 2 5 6 12 9 3 9 3 13 1 12 3 14 8 15 13 15 12 4 2 3 10 6 13 12 15>\n",
      "DEBUG:root:status: After player 0 -> <0 0 0 3 1 5 4 2 0 8 1 11 11 5 3 11 13 3 1 13 1 1 9 0 2 5 6 12 9 3 9 3 13 1 12 3 14 8 14 13 15 12 4 2 3 10 6 13 12 15>\n",
      "DEBUG:root:status: After player 1 -> <0 0 0 2 1 5 4 2 0 8 1 11 11 5 3 11 13 3 1 13 1 1 9 0 2 5 6 12 9 3 9 3 13 1 12 3 14 8 14 13 15 12 4 2 3 10 6 13 12 15>\n",
      "DEBUG:root:status: After player 0 -> <0 0 0 2 1 5 4 2 0 8 1 11 11 5 3 11 13 3 1 13 1 1 9 0 2 5 6 12 9 3 9 3 13 1 12 3 14 8 14 13 1 12 4 2 3 10 6 13 12 15>\n",
      "DEBUG:root:status: After player 1 -> <0 0 0 2 1 5 4 2 0 6 1 11 11 5 3 11 13 3 1 13 1 1 9 0 2 5 6 12 9 3 9 3 13 1 12 3 14 8 14 13 1 12 4 2 3 10 6 13 12 15>\n",
      "DEBUG:root:status: After player 0 -> <0 0 0 2 1 5 4 2 0 6 1 11 11 5 3 11 13 3 1 13 1 1 9 0 2 5 6 12 9 3 9 3 13 1 12 3 14 8 14 13 1 12 4 2 3 10 6 13 12 2>\n",
      "DEBUG:root:status: After player 1 -> <0 0 0 2 1 5 4 2 0 6 1 6 11 5 3 11 13 3 1 13 1 1 9 0 2 5 6 12 9 3 9 3 13 1 12 3 14 8 14 13 1 12 4 2 3 10 6 13 12 2>\n",
      "DEBUG:root:status: After player 0 -> <0 0 0 2 1 5 4 2 0 6 1 6 11 5 3 11 13 3 1 13 1 1 9 0 2 5 6 12 9 3 9 3 13 1 12 3 5 8 14 13 1 12 4 2 3 10 6 13 12 2>\n",
      "DEBUG:root:status: After player 1 -> <0 0 0 2 1 5 4 2 0 6 1 6 0 5 3 11 13 3 1 13 1 1 9 0 2 5 6 12 9 3 9 3 13 1 12 3 5 8 14 13 1 12 4 2 3 10 6 13 12 2>\n",
      "DEBUG:root:status: After player 0 -> <0 0 0 2 1 5 4 2 0 6 1 6 0 5 3 11 13 3 1 13 1 1 9 0 2 5 6 12 9 3 9 3 13 1 12 3 5 8 8 13 1 12 4 2 3 10 6 13 12 2>\n",
      "DEBUG:root:status: After player 1 -> <0 0 0 2 1 3 4 2 0 6 1 6 0 5 3 11 13 3 1 13 1 1 9 0 2 5 6 12 9 3 9 3 13 1 12 3 5 8 8 13 1 12 4 2 3 10 6 13 12 2>\n",
      "DEBUG:root:status: After player 0 -> <0 0 0 2 1 3 4 2 0 6 1 6 0 5 3 11 9 3 1 13 1 1 9 0 2 5 6 12 9 3 9 3 13 1 12 3 5 8 8 13 1 12 4 2 3 10 6 13 12 2>\n",
      "DEBUG:root:status: After player 1 -> <0 0 0 2 1 3 0 2 0 6 1 6 0 5 3 11 9 3 1 13 1 1 9 0 2 5 6 12 9 3 9 3 13 1 12 3 5 8 8 13 1 12 4 2 3 10 6 13 12 2>\n",
      "DEBUG:root:status: After player 0 -> <0 0 0 2 0 3 0 2 0 6 1 6 0 5 3 11 9 3 1 13 1 1 9 0 2 5 6 12 9 3 9 3 13 1 12 3 5 8 8 13 1 12 4 2 3 10 6 13 12 2>\n",
      "DEBUG:root:status: After player 1 -> <0 0 0 2 0 2 0 2 0 6 1 6 0 5 3 11 9 3 1 13 1 1 9 0 2 5 6 12 9 3 9 3 13 1 12 3 5 8 8 13 1 12 4 2 3 10 6 13 12 2>\n",
      "DEBUG:root:status: After player 0 -> <0 0 0 2 0 2 0 2 0 6 1 6 0 5 3 11 9 3 1 1 1 1 9 0 2 5 6 12 9 3 9 3 13 1 12 3 5 8 8 13 1 12 4 2 3 10 6 13 12 2>\n",
      "DEBUG:root:status: After player 1 -> <0 0 0 2 0 2 0 2 0 6 1 6 0 5 3 7 9 3 1 1 1 1 9 0 2 5 6 12 9 3 9 3 13 1 12 3 5 8 8 13 1 12 4 2 3 10 6 13 12 2>\n",
      "DEBUG:root:status: After player 0 -> <0 0 0 2 0 2 0 2 0 6 1 6 0 5 3 7 9 3 1 1 1 1 9 0 2 5 6 12 9 3 9 3 4 1 12 3 5 8 8 13 1 12 4 2 3 10 6 13 12 2>\n",
      "DEBUG:root:status: After player 1 -> <0 0 0 2 0 2 0 2 0 6 1 6 0 5 3 7 0 3 1 1 1 1 9 0 2 5 6 12 9 3 9 3 4 1 12 3 5 8 8 13 1 12 4 2 3 10 6 13 12 2>\n",
      "DEBUG:root:status: After player 0 -> <0 0 0 2 0 2 0 2 0 6 1 6 0 5 3 7 0 3 1 1 1 1 9 0 2 5 6 12 9 3 9 3 4 1 12 3 5 8 8 1 1 12 4 2 3 10 6 13 12 2>\n",
      "DEBUG:root:status: After player 1 -> <0 0 0 2 0 2 0 2 0 6 1 6 0 5 3 7 0 3 1 1 1 1 5 0 2 5 6 12 9 3 9 3 4 1 12 3 5 8 8 1 1 12 4 2 3 10 6 13 12 2>\n",
      "DEBUG:root:status: After player 0 -> <0 0 0 2 0 2 0 2 0 6 1 6 0 5 3 7 0 3 1 1 1 1 5 0 2 5 6 12 9 3 9 3 4 1 12 3 5 8 8 1 1 12 4 2 3 10 6 4 12 2>\n",
      "DEBUG:root:status: After player 1 -> <0 0 0 2 0 2 0 2 0 6 1 6 0 5 3 7 0 3 1 1 1 1 5 0 2 5 6 5 9 3 9 3 4 1 12 3 5 8 8 1 1 12 4 2 3 10 6 4 12 2>\n",
      "DEBUG:root:status: After player 0 -> <0 0 0 2 0 2 0 2 0 6 1 6 0 5 3 7 0 3 1 1 1 1 5 0 2 5 6 5 9 3 9 3 4 1 2 3 5 8 8 1 1 12 4 2 3 10 6 4 12 2>\n",
      "DEBUG:root:status: After player 1 -> <0 0 0 2 0 2 0 2 0 6 1 6 0 5 3 7 0 3 1 1 1 1 5 0 2 5 6 5 7 3 9 3 4 1 2 3 5 8 8 1 1 12 4 2 3 10 6 4 12 2>\n",
      "DEBUG:root:status: After player 0 -> <0 0 0 2 0 2 0 2 0 6 1 6 0 5 3 7 0 3 1 1 1 1 5 0 2 5 6 5 7 3 9 3 4 1 2 3 5 8 8 1 1 8 4 2 3 10 6 4 12 2>\n",
      "DEBUG:root:status: After player 1 -> <0 0 0 2 0 2 0 2 0 2 1 6 0 5 3 7 0 3 1 1 1 1 5 0 2 5 6 5 7 3 9 3 4 1 2 3 5 8 8 1 1 8 4 2 3 10 6 4 12 2>\n",
      "DEBUG:root:status: After player 0 -> <0 0 0 2 0 2 0 2 0 2 1 6 0 5 3 7 0 3 1 1 1 1 5 0 2 5 6 5 7 3 9 3 4 1 2 3 5 8 8 1 1 8 4 2 3 10 6 4 9 2>\n",
      "DEBUG:root:status: After player 1 -> <0 0 0 2 0 2 0 2 0 2 1 3 0 5 3 7 0 3 1 1 1 1 5 0 2 5 6 5 7 3 9 3 4 1 2 3 5 8 8 1 1 8 4 2 3 10 6 4 9 2>\n",
      "DEBUG:root:status: After player 0 -> <0 0 0 2 0 2 0 2 0 2 1 3 0 5 3 7 0 3 1 1 1 1 5 0 2 5 6 5 7 3 9 3 4 1 2 3 5 8 8 1 1 8 4 2 3 1 6 4 9 2>\n",
      "DEBUG:root:status: After player 1 -> <0 0 0 2 0 2 0 2 0 2 1 3 0 5 3 7 0 3 1 1 1 1 5 0 2 5 6 5 7 3 2 3 4 1 2 3 5 8 8 1 1 8 4 2 3 1 6 4 9 2>\n",
      "DEBUG:root:status: After player 0 -> <0 0 0 2 0 2 0 2 0 2 1 3 0 5 3 7 0 3 1 1 1 1 5 0 2 5 6 5 7 3 2 3 4 1 2 3 5 8 8 1 1 8 4 2 3 1 6 4 4 2>\n",
      "DEBUG:root:status: After player 1 -> <0 0 0 2 0 2 0 2 0 2 1 3 0 5 3 7 0 3 1 1 1 1 5 0 2 5 6 5 7 3 2 3 4 1 2 3 5 5 8 1 1 8 4 2 3 1 6 4 4 2>\n",
      "DEBUG:root:status: After player 0 -> <0 0 0 2 0 2 0 2 0 2 1 3 0 5 3 7 0 3 1 1 1 1 5 0 2 5 6 5 7 3 2 3 4 1 2 3 5 5 6 1 1 8 4 2 3 1 6 4 4 2>\n",
      "DEBUG:root:status: After player 1 -> <0 0 0 2 0 2 0 2 0 2 1 3 0 5 3 7 0 3 1 1 1 1 5 0 2 5 6 5 7 3 2 3 4 1 2 3 5 5 6 1 1 6 4 2 3 1 6 4 4 2>\n",
      "DEBUG:root:status: After player 0 -> <0 0 0 2 0 2 0 2 0 2 1 3 0 5 3 2 0 3 1 1 1 1 5 0 2 5 6 5 7 3 2 3 4 1 2 3 5 5 6 1 1 6 4 2 3 1 6 4 4 2>\n",
      "DEBUG:root:status: After player 1 -> <0 0 0 2 0 2 0 2 0 2 1 3 0 0 3 2 0 3 1 1 1 1 5 0 2 5 6 5 7 3 2 3 4 1 2 3 5 5 6 1 1 6 4 2 3 1 6 4 4 2>\n",
      "DEBUG:root:status: After player 0 -> <0 0 0 2 0 2 0 2 0 2 1 3 0 0 3 2 0 3 1 1 1 1 5 0 2 5 6 5 0 3 2 3 4 1 2 3 5 5 6 1 1 6 4 2 3 1 6 4 4 2>\n",
      "DEBUG:root:status: After player 1 -> <0 0 0 2 0 2 0 2 0 2 1 3 0 0 3 2 0 3 1 1 1 1 2 0 2 5 6 5 0 3 2 3 4 1 2 3 5 5 6 1 1 6 4 2 3 1 6 4 4 2>\n",
      "DEBUG:root:status: After player 0 -> <0 0 0 2 0 2 0 2 0 2 1 3 0 0 3 2 0 3 1 1 1 1 2 0 2 5 0 5 0 3 2 3 4 1 2 3 5 5 6 1 1 6 4 2 3 1 6 4 4 2>\n",
      "DEBUG:root:status: After player 1 -> <0 0 0 2 0 2 0 2 0 2 1 3 0 0 3 2 0 3 1 1 1 1 2 0 2 3 0 5 0 3 2 3 4 1 2 3 5 5 6 1 1 6 4 2 3 1 6 4 4 2>\n",
      "DEBUG:root:status: After player 0 -> <0 0 0 2 0 2 0 2 0 2 0 3 0 0 3 2 0 3 1 1 1 1 2 0 2 3 0 5 0 3 2 3 4 1 2 3 5 5 6 1 1 6 4 2 3 1 6 4 4 2>\n",
      "DEBUG:root:status: After player 1 -> <0 0 0 2 0 2 0 2 0 2 0 2 0 0 3 2 0 3 1 1 1 1 2 0 2 3 0 5 0 3 2 3 4 1 2 3 5 5 6 1 1 6 4 2 3 1 6 4 4 2>\n",
      "DEBUG:root:status: After player 0 -> <0 0 0 2 0 2 0 2 0 2 0 2 0 0 3 2 0 3 1 1 1 1 2 0 2 3 0 5 0 3 2 3 4 1 2 3 5 5 3 1 1 6 4 2 3 1 6 4 4 2>\n",
      "DEBUG:root:status: After player 1 -> <0 0 0 2 0 2 0 2 0 2 0 2 0 0 3 2 0 3 1 1 1 1 2 0 2 3 0 0 0 3 2 3 4 1 2 3 5 5 3 1 1 6 4 2 3 1 6 4 4 2>\n",
      "DEBUG:root:status: After player 0 -> <0 0 0 2 0 2 0 2 0 2 0 2 0 0 3 2 0 3 1 1 1 1 2 0 2 3 0 0 0 3 2 3 4 1 2 3 5 5 3 1 1 4 4 2 3 1 6 4 4 2>\n",
      "DEBUG:root:status: After player 1 -> <0 0 0 0 0 2 0 2 0 2 0 2 0 0 3 2 0 3 1 1 1 1 2 0 2 3 0 0 0 3 2 3 4 1 2 3 5 5 3 1 1 4 4 2 3 1 6 4 4 2>\n",
      "DEBUG:root:status: After player 0 -> <0 0 0 0 0 2 0 2 0 2 0 2 0 0 3 2 0 3 0 1 1 1 2 0 2 3 0 0 0 3 2 3 4 1 2 3 5 5 3 1 1 4 4 2 3 1 6 4 4 2>\n",
      "DEBUG:root:status: After player 1 -> <0 0 0 0 0 2 0 2 0 2 0 2 0 0 2 2 0 3 0 1 1 1 2 0 2 3 0 0 0 3 2 3 4 1 2 3 5 5 3 1 1 4 4 2 3 1 6 4 4 2>\n",
      "DEBUG:root:status: After player 0 -> <0 0 0 0 0 2 0 2 0 2 0 2 0 0 2 2 0 3 0 1 1 1 2 0 2 3 0 0 0 3 2 3 4 1 2 3 5 5 3 1 1 4 4 2 3 1 2 4 4 2>\n",
      "DEBUG:root:status: After player 1 -> <0 0 0 0 0 2 0 2 0 2 0 2 0 0 2 2 0 3 0 1 1 1 2 0 2 3 0 0 0 3 2 3 0 1 2 3 5 5 3 1 1 4 4 2 3 1 2 4 4 2>\n",
      "DEBUG:root:status: After player 0 -> <0 0 0 0 0 2 0 2 0 2 0 2 0 0 2 2 0 3 0 1 1 1 2 0 2 3 0 0 0 3 2 3 0 1 2 3 2 5 3 1 1 4 4 2 3 1 2 4 4 2>\n",
      "DEBUG:root:status: After player 1 -> <0 0 0 0 0 2 0 2 0 2 0 2 0 0 2 2 0 3 0 1 1 1 2 0 2 3 0 0 0 3 2 3 0 1 2 3 2 2 3 1 1 4 4 2 3 1 2 4 4 2>\n",
      "DEBUG:root:status: After player 0 -> <0 0 0 0 0 2 0 2 0 2 0 2 0 0 2 2 0 3 0 1 1 1 2 0 2 3 0 0 0 3 2 3 0 1 2 3 2 2 3 1 1 1 4 2 3 1 2 4 4 2>\n",
      "DEBUG:root:status: After player 1 -> <0 0 0 0 0 2 0 2 0 2 0 2 0 0 2 2 0 3 0 1 1 1 2 0 2 3 0 0 0 3 2 3 0 1 2 3 2 2 3 1 1 1 1 2 3 1 2 4 4 2>\n",
      "DEBUG:root:status: After player 0 -> <0 0 0 0 0 2 0 2 0 2 0 2 0 0 2 2 0 3 0 1 1 1 2 0 2 3 0 0 0 3 2 3 0 1 2 3 2 2 3 1 1 1 1 2 3 1 2 2 4 2>\n",
      "DEBUG:root:status: After player 1 -> <0 0 0 0 0 2 0 2 0 2 0 2 0 0 2 2 0 3 0 1 1 1 2 0 2 3 0 0 0 3 2 3 0 1 2 3 2 2 3 1 1 1 1 2 3 1 2 2 2 2>\n",
      "DEBUG:root:status: After player 0 -> <0 0 0 0 0 2 0 2 0 2 0 2 0 0 2 2 0 2 0 1 1 1 2 0 2 3 0 0 0 3 2 3 0 1 2 3 2 2 3 1 1 1 1 2 3 1 2 2 2 2>\n",
      "DEBUG:root:status: After player 1 -> <0 0 0 0 0 2 0 2 0 2 0 2 0 0 2 2 0 2 0 0 1 1 2 0 2 3 0 0 0 3 2 3 0 1 2 3 2 2 3 1 1 1 1 2 3 1 2 2 2 2>\n",
      "DEBUG:root:status: After player 0 -> <0 0 0 0 0 2 0 2 0 2 0 2 0 0 2 2 0 2 0 0 1 1 2 0 2 1 0 0 0 3 2 3 0 1 2 3 2 2 3 1 1 1 1 2 3 1 2 2 2 2>\n",
      "DEBUG:root:status: After player 1 -> <0 0 0 0 0 0 0 2 0 2 0 2 0 0 2 2 0 2 0 0 1 1 2 0 2 1 0 0 0 3 2 3 0 1 2 3 2 2 3 1 1 1 1 2 3 1 2 2 2 2>\n",
      "DEBUG:root:status: After player 0 -> <0 0 0 0 0 0 0 2 0 2 0 2 0 0 2 2 0 2 0 0 1 1 2 0 2 1 0 0 0 1 2 3 0 1 2 3 2 2 3 1 1 1 1 2 3 1 2 2 2 2>\n",
      "DEBUG:root:status: After player 1 -> <0 0 0 0 0 0 0 0 0 2 0 2 0 0 2 2 0 2 0 0 1 1 2 0 2 1 0 0 0 1 2 3 0 1 2 3 2 2 3 1 1 1 1 2 3 1 2 2 2 2>\n",
      "DEBUG:root:status: After player 0 -> <0 0 0 0 0 0 0 0 0 2 0 2 0 0 2 2 0 2 0 0 0 1 2 0 2 1 0 0 0 1 2 3 0 1 2 3 2 2 3 1 1 1 1 2 3 1 2 2 2 2>\n",
      "DEBUG:root:status: After player 1 -> <0 0 0 0 0 0 0 0 0 2 0 2 0 0 2 2 0 2 0 0 0 0 2 0 2 1 0 0 0 1 2 3 0 1 2 3 2 2 3 1 1 1 1 2 3 1 2 2 2 2>\n",
      "DEBUG:root:status: After player 0 -> <0 0 0 0 0 0 0 0 0 2 0 2 0 0 2 2 0 2 0 0 0 0 2 0 2 1 0 0 0 1 2 1 0 1 2 3 2 2 3 1 1 1 1 2 3 1 2 2 2 2>\n",
      "DEBUG:root:status: After player 1 -> <0 0 0 0 0 0 0 0 0 0 0 2 0 0 2 2 0 2 0 0 0 0 2 0 2 1 0 0 0 1 2 1 0 1 2 3 2 2 3 1 1 1 1 2 3 1 2 2 2 2>\n",
      "DEBUG:root:status: After player 0 -> <0 0 0 0 0 0 0 0 0 0 0 2 0 0 2 2 0 2 0 0 0 0 2 0 2 1 0 0 0 1 2 1 0 1 2 1 2 2 3 1 1 1 1 2 3 1 2 2 2 2>\n",
      "DEBUG:root:status: After player 1 -> <0 0 0 0 0 0 0 0 0 0 0 0 0 0 2 2 0 2 0 0 0 0 2 0 2 1 0 0 0 1 2 1 0 1 2 1 2 2 3 1 1 1 1 2 3 1 2 2 2 2>\n",
      "DEBUG:root:status: After player 0 -> <0 0 0 0 0 0 0 0 0 0 0 0 0 0 2 2 0 2 0 0 0 0 2 0 2 1 0 0 0 1 2 1 0 1 2 1 2 2 0 1 1 1 1 2 3 1 2 2 2 2>\n",
      "DEBUG:root:status: After player 1 -> <0 0 0 0 0 0 0 0 0 0 0 0 0 0 1 2 0 2 0 0 0 0 2 0 2 1 0 0 0 1 2 1 0 1 2 1 2 2 0 1 1 1 1 2 3 1 2 2 2 2>\n",
      "DEBUG:root:status: After player 0 -> <0 0 0 0 0 0 0 0 0 0 0 0 0 0 1 2 0 2 0 0 0 0 2 0 2 1 0 0 0 1 2 1 0 1 2 1 2 2 0 1 1 1 1 2 0 1 2 2 2 2>\n",
      "DEBUG:root:status: After player 1 -> <0 0 0 0 0 0 0 0 0 0 0 0 0 0 1 1 0 2 0 0 0 0 2 0 2 1 0 0 0 1 2 1 0 1 2 1 2 2 0 1 1 1 1 2 0 1 2 2 2 2>\n",
      "DEBUG:root:status: After player 0 -> <0 0 0 0 0 0 0 0 0 0 0 0 0 0 1 1 0 0 0 0 0 0 2 0 2 1 0 0 0 1 2 1 0 1 2 1 2 2 0 1 1 1 1 2 0 1 2 2 2 2>\n",
      "DEBUG:root:status: After player 1 -> <0 0 0 0 0 0 0 0 0 0 0 0 0 0 1 1 0 0 0 0 0 0 0 0 2 1 0 0 0 1 2 1 0 1 2 1 2 2 0 1 1 1 1 2 0 1 2 2 2 2>\n",
      "DEBUG:root:status: After player 0 -> <0 0 0 0 0 0 0 0 0 0 0 0 0 0 1 1 0 0 0 0 0 0 0 0 1 1 0 0 0 1 2 1 0 1 2 1 2 2 0 1 1 1 1 2 0 1 2 2 2 2>\n",
      "DEBUG:root:status: After player 1 -> <0 0 0 0 0 0 0 0 0 0 0 0 0 0 1 1 0 0 0 0 0 0 0 0 1 1 0 0 0 1 1 1 0 1 2 1 2 2 0 1 1 1 1 2 0 1 2 2 2 2>\n",
      "DEBUG:root:status: After player 0 -> <0 0 0 0 0 0 0 0 0 0 0 0 0 0 1 1 0 0 0 0 0 0 0 0 1 1 0 0 0 1 1 1 0 1 0 1 2 2 0 1 1 1 1 2 0 1 2 2 2 2>\n",
      "DEBUG:root:status: After player 1 -> <0 0 0 0 0 0 0 0 0 0 0 0 0 0 1 1 0 0 0 0 0 0 0 0 1 1 0 0 0 1 1 1 0 1 0 1 0 2 0 1 1 1 1 2 0 1 2 2 2 2>\n",
      "DEBUG:root:status: After player 0 -> <0 0 0 0 0 0 0 0 0 0 0 0 0 0 1 1 0 0 0 0 0 0 0 0 1 1 0 0 0 1 1 1 0 1 0 1 0 1 0 1 1 1 1 2 0 1 2 2 2 2>\n",
      "DEBUG:root:status: After player 1 -> <0 0 0 0 0 0 0 0 0 0 0 0 0 0 1 1 0 0 0 0 0 0 0 0 1 1 0 0 0 1 1 1 0 1 0 1 0 1 0 1 1 1 1 1 0 1 2 2 2 2>\n",
      "DEBUG:root:status: After player 0 -> <0 0 0 0 0 0 0 0 0 0 0 0 0 0 1 1 0 0 0 0 0 0 0 0 1 1 0 0 0 1 1 1 0 1 0 1 0 1 0 1 1 1 1 1 0 1 0 2 2 2>\n",
      "DEBUG:root:status: After player 1 -> <0 0 0 0 0 0 0 0 0 0 0 0 0 0 1 1 0 0 0 0 0 0 0 0 1 1 0 0 0 1 1 1 0 1 0 1 0 1 0 1 1 1 1 1 0 1 0 0 2 2>\n",
      "DEBUG:root:status: After player 0 -> <0 0 0 0 0 0 0 0 0 0 0 0 0 0 1 1 0 0 0 0 0 0 0 0 1 1 0 0 0 1 1 1 0 1 0 1 0 1 0 1 1 1 1 1 0 1 0 0 1 2>\n",
      "DEBUG:root:status: After player 1 -> <0 0 0 0 0 0 0 0 0 0 0 0 0 0 1 1 0 0 0 0 0 0 0 0 1 1 0 0 0 1 1 1 0 1 0 1 0 1 0 1 1 1 1 1 0 1 0 0 1 1>\n",
      "DEBUG:root:status: After player 0 -> <0 0 0 0 0 0 0 0 0 0 0 0 0 0 0 1 0 0 0 0 0 0 0 0 1 1 0 0 0 1 1 1 0 1 0 1 0 1 0 1 1 1 1 1 0 1 0 0 1 1>\n",
      "DEBUG:root:status: After player 1 -> <0 0 0 0 0 0 0 0 0 0 0 0 0 0 0 0 0 0 0 0 0 0 0 0 1 1 0 0 0 1 1 1 0 1 0 1 0 1 0 1 1 1 1 1 0 1 0 0 1 1>\n",
      "DEBUG:root:status: After player 0 -> <0 0 0 0 0 0 0 0 0 0 0 0 0 0 0 0 0 0 0 0 0 0 0 0 0 1 0 0 0 1 1 1 0 1 0 1 0 1 0 1 1 1 1 1 0 1 0 0 1 1>\n",
      "DEBUG:root:status: After player 1 -> <0 0 0 0 0 0 0 0 0 0 0 0 0 0 0 0 0 0 0 0 0 0 0 0 0 0 0 0 0 1 1 1 0 1 0 1 0 1 0 1 1 1 1 1 0 1 0 0 1 1>\n",
      "DEBUG:root:status: After player 0 -> <0 0 0 0 0 0 0 0 0 0 0 0 0 0 0 0 0 0 0 0 0 0 0 0 0 0 0 0 0 0 1 1 0 1 0 1 0 1 0 1 1 1 1 1 0 1 0 0 1 1>\n",
      "DEBUG:root:status: After player 1 -> <0 0 0 0 0 0 0 0 0 0 0 0 0 0 0 0 0 0 0 0 0 0 0 0 0 0 0 0 0 0 0 1 0 1 0 1 0 1 0 1 1 1 1 1 0 1 0 0 1 1>\n",
      "DEBUG:root:status: After player 0 -> <0 0 0 0 0 0 0 0 0 0 0 0 0 0 0 0 0 0 0 0 0 0 0 0 0 0 0 0 0 0 0 0 0 1 0 1 0 1 0 1 1 1 1 1 0 1 0 0 1 1>\n",
      "DEBUG:root:status: After player 1 -> <0 0 0 0 0 0 0 0 0 0 0 0 0 0 0 0 0 0 0 0 0 0 0 0 0 0 0 0 0 0 0 0 0 0 0 1 0 1 0 1 1 1 1 1 0 1 0 0 1 1>\n",
      "DEBUG:root:status: After player 0 -> <0 0 0 0 0 0 0 0 0 0 0 0 0 0 0 0 0 0 0 0 0 0 0 0 0 0 0 0 0 0 0 0 0 0 0 0 0 1 0 1 1 1 1 1 0 1 0 0 1 1>\n",
      "DEBUG:root:status: After player 1 -> <0 0 0 0 0 0 0 0 0 0 0 0 0 0 0 0 0 0 0 0 0 0 0 0 0 0 0 0 0 0 0 0 0 0 0 0 0 0 0 1 1 1 1 1 0 1 0 0 1 1>\n",
      "DEBUG:root:status: After player 0 -> <0 0 0 0 0 0 0 0 0 0 0 0 0 0 0 0 0 0 0 0 0 0 0 0 0 0 0 0 0 0 0 0 0 0 0 0 0 0 0 0 1 1 1 1 0 1 0 0 1 1>\n",
      "DEBUG:root:status: After player 1 -> <0 0 0 0 0 0 0 0 0 0 0 0 0 0 0 0 0 0 0 0 0 0 0 0 0 0 0 0 0 0 0 0 0 0 0 0 0 0 0 0 0 1 1 1 0 1 0 0 1 1>\n",
      "DEBUG:root:status: After player 0 -> <0 0 0 0 0 0 0 0 0 0 0 0 0 0 0 0 0 0 0 0 0 0 0 0 0 0 0 0 0 0 0 0 0 0 0 0 0 0 0 0 0 0 1 1 0 1 0 0 1 1>\n",
      "DEBUG:root:status: After player 1 -> <0 0 0 0 0 0 0 0 0 0 0 0 0 0 0 0 0 0 0 0 0 0 0 0 0 0 0 0 0 0 0 0 0 0 0 0 0 0 0 0 0 0 0 1 0 1 0 0 1 1>\n",
      "DEBUG:root:status: After player 0 -> <0 0 0 0 0 0 0 0 0 0 0 0 0 0 0 0 0 0 0 0 0 0 0 0 0 0 0 0 0 0 0 0 0 0 0 0 0 0 0 0 0 0 0 0 0 1 0 0 1 1>\n",
      "DEBUG:root:status: After player 1 -> <0 0 0 0 0 0 0 0 0 0 0 0 0 0 0 0 0 0 0 0 0 0 0 0 0 0 0 0 0 0 0 0 0 0 0 0 0 0 0 0 0 0 0 0 0 0 0 0 1 1>\n",
      "DEBUG:root:status: After player 0 -> <0 0 0 0 0 0 0 0 0 0 0 0 0 0 0 0 0 0 0 0 0 0 0 0 0 0 0 0 0 0 0 0 0 0 0 0 0 0 0 0 0 0 0 0 0 0 0 0 0 1>\n",
      "DEBUG:root:status: After player 1 -> <0 0 0 0 0 0 0 0 0 0 0 0 0 0 0 0 0 0 0 0 0 0 0 0 0 0 0 0 0 0 0 0 0 0 0 0 0 0 0 0 0 0 0 0 0 0 0 0 0 0>\n",
      "INFO:root:status: Player 1 won!\n"
     ]
    }
   ],
   "source": [
    "logging.getLogger().setLevel(logging.DEBUG)\n",
    "\n",
    "strategy = (make_strategy({\"p\": 0.1}), optimal_startegy)\n",
    "\n",
    "nim = Nim(50)\n",
    "logging.debug(f\"status: Initial board  -> {nim}\")\n",
    "player = 0\n",
    "while nim:\n",
    "    ply = strategy[player](nim)\n",
    "    nim.nimming(ply)\n",
    "    logging.debug(f\"status: After player {player} -> {nim}\")\n",
    "    player = 1 - player\n",
    "winner = 1 - player\n",
    "logging.info(f\"status: Player {winner} won!\")"
   ]
  },
  {
   "cell_type": "code",
   "execution_count": null,
   "metadata": {},
   "outputs": [],
   "source": []
  }
 ],
 "metadata": {
  "kernelspec": {
   "display_name": "Python 3.10.8 64-bit (microsoft store)",
   "language": "python",
   "name": "python3"
  },
  "language_info": {
   "codemirror_mode": {
    "name": "ipython",
    "version": 3
   },
   "file_extension": ".py",
   "mimetype": "text/x-python",
   "name": "python",
   "nbconvert_exporter": "python",
   "pygments_lexer": "ipython3",
   "version": "3.10.8"
  },
  "vscode": {
   "interpreter": {
    "hash": "58069f6b9b752f307d3cb3e9dbf20c47cc0fffd82c27945fc36dbd5747efe1ba"
   }
  }
 },
 "nbformat": 4,
 "nbformat_minor": 2
}
